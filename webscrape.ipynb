{
 "cells": [
  {
   "cell_type": "code",
   "execution_count": 2,
   "id": "bce429a2",
   "metadata": {},
   "outputs": [
    {
     "name": "stdout",
     "output_type": "stream",
     "text": [
      "Requirement already satisfied: requests in /Library/Frameworks/Python.framework/Versions/3.10/lib/python3.10/site-packages (2.29.0)\n",
      "Requirement already satisfied: BeautifulSoup4 in /Library/Frameworks/Python.framework/Versions/3.10/lib/python3.10/site-packages (4.11.1)\n",
      "Requirement already satisfied: charset-normalizer<4,>=2 in /Library/Frameworks/Python.framework/Versions/3.10/lib/python3.10/site-packages (from requests) (3.1.0)\n",
      "Requirement already satisfied: idna<4,>=2.5 in /Library/Frameworks/Python.framework/Versions/3.10/lib/python3.10/site-packages (from requests) (3.4)\n",
      "Requirement already satisfied: urllib3<1.27,>=1.21.1 in /Library/Frameworks/Python.framework/Versions/3.10/lib/python3.10/site-packages (from requests) (1.26.15)\n",
      "Requirement already satisfied: certifi>=2017.4.17 in /Library/Frameworks/Python.framework/Versions/3.10/lib/python3.10/site-packages (from requests) (2022.12.7)\n",
      "Requirement already satisfied: soupsieve>1.2 in /Library/Frameworks/Python.framework/Versions/3.10/lib/python3.10/site-packages (from BeautifulSoup4) (2.3.2.post1)\n",
      "Note: you may need to restart the kernel to use updated packages.\n"
     ]
    }
   ],
   "source": [
    "pip install requests BeautifulSoup4\n"
   ]
  },
  {
   "cell_type": "code",
   "execution_count": 3,
   "id": "c3c35daa",
   "metadata": {},
   "outputs": [],
   "source": [
    "import requests #imporing the library requests to send requests \n",
    "from bs4 import BeautifulSoup #importing BeautifulSoup class from bs4 library"
   ]
  },
  {
   "cell_type": "code",
   "execution_count": 6,
   "id": "5ff1df98",
   "metadata": {},
   "outputs": [],
   "source": [
    "url='https://www.simplilearn.com/types-of-technology-article'#you can change the url from which you want to extract the data"
   ]
  },
  {
   "cell_type": "code",
   "execution_count": 7,
   "id": "5a806ba2",
   "metadata": {},
   "outputs": [],
   "source": [
    "response=requests.get(url)"
   ]
  },
  {
   "cell_type": "code",
   "execution_count": 9,
   "id": "fb7fb267",
   "metadata": {},
   "outputs": [
    {
     "name": "stdout",
     "output_type": "stream",
     "text": [
      "Table of Contents\n",
      "Types of Technology\n",
      "Conclusion\n",
      "Find our Post Graduate Program in Full Stack Web Development Online Bootcamp in top cities:\n",
      "About the Author\n",
      "Recommended Programs\n",
      "Recommended Resources\n"
     ]
    }
   ],
   "source": [
    "if response.status_code == 200: #Verification of success\n",
    "    # Parse the HTML content of the page\n",
    "    soup = BeautifulSoup(response.text, 'html.parser')\n",
    "    \n",
    "    # Find and extract the titles of articles (assuming they are in <h2> tags)\n",
    "    article_titles = soup.find_all('h2')\n",
    "    \n",
    "    # Print the titles\n",
    "    for title in article_titles:\n",
    "        print(title.text)\n",
    "else:\n",
    "    print('Failed to retrieve the web page.')"
   ]
  },
  {
   "cell_type": "code",
   "execution_count": null,
   "id": "863c5364",
   "metadata": {},
   "outputs": [],
   "source": []
  }
 ],
 "metadata": {
  "kernelspec": {
   "display_name": "Python 3 (ipykernel)",
   "language": "python",
   "name": "python3"
  },
  "language_info": {
   "codemirror_mode": {
    "name": "ipython",
    "version": 3
   },
   "file_extension": ".py",
   "mimetype": "text/x-python",
   "name": "python",
   "nbconvert_exporter": "python",
   "pygments_lexer": "ipython3",
   "version": "3.10.8"
  }
 },
 "nbformat": 4,
 "nbformat_minor": 5
}
